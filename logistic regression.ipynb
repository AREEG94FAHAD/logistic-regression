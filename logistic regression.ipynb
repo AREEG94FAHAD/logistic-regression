{
 "cells": [
  {
   "cell_type": "markdown",
   "id": "a15ca07c",
   "metadata": {},
   "source": [
    "# logistic Regression"
   ]
  },
  {
   "cell_type": "markdown",
   "id": "6cf5ea1c",
   "metadata": {},
   "source": [
    "Logistic regression is a statistical and machine-learning technique for categorizing records in a dataset based on their input field values. It is a classification algorithm for categorical variables. Logistic regression is analogous to linear regression but tries to predict a categorical or discrete target field instead of a numeric one. In logistic regression we predict a binary such as yes/no, true,false or multi-class. In logistic regression independent variables should be continuous. if categorical, they should be dummy or indicator coded (i.e, transform them to some continuous value). "
   ]
  },
  {
   "cell_type": "markdown",
   "id": "22e141c0",
   "metadata": {},
   "source": [
    "#### Applications of logistic regression\n",
    "- Predicting the probability of a person having a heart attack\n",
    "- Estimating mortality rates for injured patients\n",
    "- Predicting a customer's propensity to purchase a product or halt a subscriptio\n",
    "- Predicting the probability of failure of a given process or product"
   ]
  },
  {
   "cell_type": "markdown",
   "id": "cf8e50f0",
   "metadata": {},
   "source": [
    "#### When should we use a logistic regression algorithm?\n",
    "\n",
    "1. If the target field is binary (0 or 1) (true or false), (Yes, No)\n",
    "2. If you need a probability result\n",
    "3. If your data is linearly separable\n",
    "4. If you need to understand the impact of a feature\n"
   ]
  },
  {
   "cell_type": "markdown",
   "id": "166374c4",
   "metadata": {},
   "source": [
    "#### Logistic Regression vs Linear Regression\n",
    "<p>\n",
    "The equation that used for linear regression is $$ y' = \\theta ^{T}  X$$ \n",
    "</p>\n",
    "where Θ is called the weights factor or confidences of the equation\n",
    "$$\\theta ^{T} = [\\theta_{0},\\theta_{1}, \\theta_{2}, ..., \\theta_{n} ]$$\n",
    "and the x represents the independent variables\n",
    "$$X = \\begin{bmatrix}x_{0}\\\\ x_{1}\\\\ x_{2}\\\\...\\\\x_{n} \\end{bmatrix}$$"
   ]
  },
  {
   "cell_type": "markdown",
   "id": "edfa2323",
   "metadata": {},
   "source": [
    "The Correlation-Pearson equation is used to compute the theta, as shown below.\n",
    "$$\\theta_{of_independent_variable} = \\frac{{}\\sum_{i=1}^{n} (x_i - \\overline{x})(y_i - \\overline{y})}{\\sqrt{\\sum_{i=1}^{n} (x_i - \\overline{x})^2(y_i - \\overline{y})^2}}$$"
   ]
  },
  {
   "cell_type": "markdown",
   "id": "91edeef5",
   "metadata": {},
   "source": [
    "And the mean is computed using the following equation:\n",
    "    $$\\bar{x} = \\frac{\\sum x_{i}}{n}$$"
   ]
  },
  {
   "cell_type": "markdown",
   "id": "92960f4a",
   "metadata": {},
   "source": [
    "To compute the intercept according to equation \n",
    "$$ \\theta _{0} = \\frac{\\sum_{i=1}^{n} (y_{i} -(\\theta_{i}\\times x_{i}))}{n} $$"
   ]
  },
  {
   "cell_type": "markdown",
   "id": "f3c76ef2",
   "metadata": {},
   "source": [
    "To predict categorical classes using linear regression, we need to set a threshold. Any value above the threshold will be considered (one, or true) even if it is one thousand, and any value below the threshold will be considered zero or false. And this will not give us the probability of belonging to a class that is very desirable. Logistic regression is preferable for solving a linear regression problem with categorical data. The logistic regression algorithm is based on the sigmoid function it also called logistic function, which calculates the likelihood (probability) of belonging to a class instead to reurn the value of y. Sigmoid function it always returns value between 0 and 1. \n",
    "\n",
    "$$sigmoid = \\frac{1}{1+e^{-\\theta^{T}X}}$$\n"
   ]
  },
  {
   "cell_type": "markdown",
   "id": "c59c71be",
   "metadata": {},
   "source": [
    "#### How do you calculate theta (Θ)?\n",
    "\n",
    "Theta can be found by following the training process outlined below.\n",
    "\n",
    "\n",
    "- initialize Theta\n",
    "- determine the predicted y\n",
    "- Compare the predicted and actual y values and record the difference.\n",
    "- compute the error for all y\n",
    "- Determine the model cost j(Θ).\n",
    "- Change the (Θ)\n",
    "- Go to step 2 and compute the cost model again.\n",
    " "
   ]
  },
  {
   "cell_type": "markdown",
   "id": "6a5d99fc",
   "metadata": {},
   "source": [
    "#### How to compute the model cost ?"
   ]
  },
  {
   "cell_type": "markdown",
   "id": "eb456307",
   "metadata": {},
   "source": [
    "<p>In linear regression the cost function is </p>\n",
    "$$ J(\\hat{y},y) = \\frac{1}{n}\\sum_{i=0}^{n} (\\hat{y}_{i}-y_{i})^2$$"
   ]
  },
  {
   "cell_type": "markdown",
   "id": "0386b222",
   "metadata": {},
   "source": [
    "For the logistic function, the above equation is not proper since it is not convex when \n",
    "applied the gradient descent method to calculate the best theta in case of logistic regression. Therfore the log function is more poper for logistic (sigmoid function)  "
   ]
  },
  {
   "cell_type": "markdown",
   "id": "b180947f",
   "metadata": {},
   "source": [
    "$$J(\\hat{y},y) = -\\frac{1}{n}\\sum_{i=0}^{n} y_{i}log(\\hat{y_{i}})+(i-y_{i})log(1-\\hat{y}_{i})$$"
   ]
  },
  {
   "cell_type": "markdown",
   "id": "23b25bbb",
   "metadata": {},
   "source": [
    "How to chose the best parameters for our model (theta)?.  This can be achieved by using a gradient descent approche.\n"
   ]
  },
  {
   "cell_type": "markdown",
   "id": "78639b30",
   "metadata": {},
   "source": [
    "#### What is the gradient descent approche?\n",
    "<br>\n",
    "<p>A technique to use the derivative of a cost function to change the parameter values (thetas) to minimize the cost or error </p>"
   ]
  },
  {
   "cell_type": "markdown",
   "id": "f3d17d26",
   "metadata": {},
   "source": [
    "#### How the gradient descent work?\n",
    "1. Initialize the parameters randomly\n",
    "$$\\theta ^{T} = [\\theta_{0},\\theta_{1}, \\theta_{2}, ..., \\theta_{n} ]$$\n",
    "2. Feed the cost function with training set, and calculate the error\n",
    "$$J(\\hat{y},y) = -\\frac{1}{n}\\sum_{i=0}^{n} y_{i}log(\\hat{y_{i}})+(i-y_{i})log(1-\\hat{y}_{i})$$\n",
    "3. Calulate the gradient of cost function. If there are multiple thetas, take one as a variable and return the rest as a constant. then calculate the best value of theta. \n",
    "$$\\nabla J = [\\frac{\\partial J}{\\partial \\theta_{1}}, \\frac{\\partial J}{\\partial \\theta_{2}}, \\frac{\\partial J}{\\partial \\theta_{3}}, ..., \\frac{\\partial J}{\\partial \\theta_{n}}]$$\n",
    "4. Update the weights with new values. Where η is the learning rate or (steps) and ∇ means the difference between the predicted and actual values in the cost function.\n",
    "$$\\theta_{new} = \\theta_{old} - \\eta \\nabla J$$\n",
    "5. Go to step 2 until the cost is small enough\n"
   ]
  },
  {
   "cell_type": "markdown",
   "id": "d3502a56",
   "metadata": {},
   "source": [
    ">There a thing called Stochastic gradient Descent that uses a randomly selected subset of the data at every step rather than the full dataset. This reduce the time to calculate the derivatives of the Loss function"
   ]
  },
  {
   "cell_type": "markdown",
   "id": "e803f2ae",
   "metadata": {},
   "source": [
    "#### References\n",
    "1. [Youtube video](https://www.youtube.com/watch?v=sDv4f4s2SB8&t=323s)\n",
    "2. [Machine learning with Python](https://www.coursera.org/learn/machine-learning-with-python/home/welcome)\n",
    "3. [Run Math equations](https://www.symbolab.com/)"
   ]
  }
 ],
 "metadata": {
  "kernelspec": {
   "display_name": "Python 3 (ipykernel)",
   "language": "python",
   "name": "python3"
  },
  "language_info": {
   "codemirror_mode": {
    "name": "ipython",
    "version": 3
   },
   "file_extension": ".py",
   "mimetype": "text/x-python",
   "name": "python",
   "nbconvert_exporter": "python",
   "pygments_lexer": "ipython3",
   "version": "3.9.13"
  }
 },
 "nbformat": 4,
 "nbformat_minor": 5
}
